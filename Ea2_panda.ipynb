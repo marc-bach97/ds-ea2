{
 "cells": [
  {
   "cell_type": "code",
   "execution_count": 20,
   "id": "8fa78263-940b-49d6-9c08-c45d5025be42",
   "metadata": {},
   "outputs": [],
   "source": [
    "import pandas as pd"
   ]
  },
  {
   "cell_type": "code",
   "execution_count": 21,
   "id": "7e1aa4ff-a549-49a8-ad04-f712bbfe8687",
   "metadata": {},
   "outputs": [],
   "source": [
    "#Note : reading the file from url gives an error (ParserError: Error tokenizing data. C error: Expected 1 fields in line 41, saw 17)\n",
    "url = 'country.csv'\n",
    "df = pd.read_csv(url)"
   ]
  },
  {
   "cell_type": "code",
   "execution_count": 22,
   "id": "2006aea1-d4a1-4d94-9c38-5d32c58a2400",
   "metadata": {},
   "outputs": [
    {
     "data": {
      "text/html": [
       "<div>\n",
       "<style scoped>\n",
       "    .dataframe tbody tr th:only-of-type {\n",
       "        vertical-align: middle;\n",
       "    }\n",
       "\n",
       "    .dataframe tbody tr th {\n",
       "        vertical-align: top;\n",
       "    }\n",
       "\n",
       "    .dataframe thead th {\n",
       "        text-align: right;\n",
       "    }\n",
       "</style>\n",
       "<table border=\"1\" class=\"dataframe\">\n",
       "  <thead>\n",
       "    <tr style=\"text-align: right;\">\n",
       "      <th></th>\n",
       "      <th>Name</th>\n",
       "      <th>Population</th>\n",
       "      <th>Area</th>\n",
       "      <th>GDP</th>\n",
       "      <th>Currency</th>\n",
       "    </tr>\n",
       "  </thead>\n",
       "  <tbody>\n",
       "    <tr>\n",
       "      <th>0</th>\n",
       "      <td>Germany</td>\n",
       "      <td>82521653</td>\n",
       "      <td>357385</td>\n",
       "      <td>3466.0</td>\n",
       "      <td>EUR</td>\n",
       "    </tr>\n",
       "    <tr>\n",
       "      <th>1</th>\n",
       "      <td>Japan</td>\n",
       "      <td>126045000</td>\n",
       "      <td>377835</td>\n",
       "      <td>4938.0</td>\n",
       "      <td>YEN</td>\n",
       "    </tr>\n",
       "    <tr>\n",
       "      <th>2</th>\n",
       "      <td>Canada</td>\n",
       "      <td>36503097</td>\n",
       "      <td>9984670</td>\n",
       "      <td>1529.0</td>\n",
       "      <td>CAD</td>\n",
       "    </tr>\n",
       "    <tr>\n",
       "      <th>3</th>\n",
       "      <td>Italy</td>\n",
       "      <td>60501718</td>\n",
       "      <td>301338</td>\n",
       "      <td>1850.0</td>\n",
       "      <td>EUR</td>\n",
       "    </tr>\n",
       "    <tr>\n",
       "      <th>4</th>\n",
       "      <td>Brazilia</td>\n",
       "      <td>208360000</td>\n",
       "      <td>8515770</td>\n",
       "      <td>1798.0</td>\n",
       "      <td>REAL</td>\n",
       "    </tr>\n",
       "    <tr>\n",
       "      <th>5</th>\n",
       "      <td>Taiwan</td>\n",
       "      <td>23938272</td>\n",
       "      <td>36197</td>\n",
       "      <td>744.0</td>\n",
       "      <td>NTD</td>\n",
       "    </tr>\n",
       "    <tr>\n",
       "      <th>6</th>\n",
       "      <td>Venezuela</td>\n",
       "      <td>28208977</td>\n",
       "      <td>912050</td>\n",
       "      <td>NaN</td>\n",
       "      <td>VED</td>\n",
       "    </tr>\n",
       "  </tbody>\n",
       "</table>\n",
       "</div>"
      ],
      "text/plain": [
       "        Name  Population     Area     GDP Currency\n",
       "0    Germany    82521653   357385  3466.0      EUR\n",
       "1      Japan   126045000   377835  4938.0      YEN\n",
       "2     Canada    36503097  9984670  1529.0      CAD\n",
       "3      Italy    60501718   301338  1850.0      EUR\n",
       "4   Brazilia   208360000  8515770  1798.0     REAL\n",
       "5     Taiwan    23938272    36197   744.0      NTD\n",
       "6  Venezuela    28208977   912050     NaN      VED"
      ]
     },
     "execution_count": 22,
     "metadata": {},
     "output_type": "execute_result"
    }
   ],
   "source": [
    "df"
   ]
  },
  {
   "cell_type": "code",
   "execution_count": 23,
   "id": "49226ea3-bb1d-4ac8-8cf8-ddc79e37d089",
   "metadata": {},
   "outputs": [
    {
     "name": "stdout",
     "output_type": "stream",
     "text": [
      "         Population          Area          GDP\n",
      "count  7.000000e+00  7.000000e+00     6.000000\n",
      "mean   8.086839e+07  2.926464e+06  2387.500000\n",
      "std    6.670195e+07  4.348507e+06  1532.497537\n",
      "min    2.393827e+07  3.619700e+04   744.000000\n",
      "25%    3.235604e+07  3.293615e+05  1596.250000\n",
      "50%    6.050172e+07  3.778350e+05  1824.000000\n",
      "75%    1.042833e+08  4.713910e+06  3062.000000\n",
      "max    2.083600e+08  9.984670e+06  4938.000000\n"
     ]
    }
   ],
   "source": [
    "#isplay descriptive statistics for the numerical column\n",
    "statistics = df.describe()\n",
    "print(statistics)"
   ]
  },
  {
   "cell_type": "code",
   "execution_count": 24,
   "id": "497ec385-3d73-499e-ba24-32efe7068186",
   "metadata": {},
   "outputs": [
    {
     "name": "stdout",
     "output_type": "stream",
     "text": [
      "        Name  Population     Area     GDP Currency\n",
      "3      Italy    60501718   301338  1850.0      EUR\n",
      "4   Brazilia   208360000  8515770  1798.0     REAL\n",
      "5     Taiwan    23938272    36197   744.0      NTD\n",
      "6  Venezuela    28208977   912050     NaN      VED\n"
     ]
    }
   ],
   "source": [
    "#Show the last 4 rows of the data frame.\n",
    "last_4_rows = df.tail(4)\n",
    "print(last_4_rows)"
   ]
  },
  {
   "cell_type": "code",
   "execution_count": 25,
   "id": "d3893ee8-167a-4a1d-ad09-c6cee609d2b1",
   "metadata": {},
   "outputs": [
    {
     "name": "stdout",
     "output_type": "stream",
     "text": [
      "Empty DataFrame\n",
      "Columns: [Name, Population, Area, GDP, Currency]\n",
      "Index: []\n"
     ]
    }
   ],
   "source": [
    "#Show all the rows of countries that have the EURO\n",
    "euro_countries = df[df['Currency'] == 'EURO']\n",
    "print(euro_countries)"
   ]
  },
  {
   "cell_type": "code",
   "execution_count": 26,
   "id": "373a38ae-457d-443e-b115-e8ad6cdb7d2f",
   "metadata": {},
   "outputs": [
    {
     "name": "stdout",
     "output_type": "stream",
     "text": [
      "        Name Currency\n",
      "0    Germany      EUR\n",
      "1      Japan      YEN\n",
      "2     Canada      CAD\n",
      "3      Italy      EUR\n",
      "4   Brazilia     REAL\n",
      "5     Taiwan      NTD\n",
      "6  Venezuela      VED\n"
     ]
    }
   ],
   "source": [
    "#Show only name and Currency in a new data frame\n",
    "name_currency_df = df[['Name', 'Currency']]\n",
    "print(name_currency_df)"
   ]
  },
  {
   "cell_type": "code",
   "execution_count": 27,
   "id": "e9bee8a1-86ef-49c3-b417-22ce8f6f6e30",
   "metadata": {},
   "outputs": [
    {
     "name": "stdout",
     "output_type": "stream",
     "text": [
      "      Name  Population    Area     GDP Currency\n",
      "0  Germany    82521653  357385  3466.0      EUR\n",
      "1    Japan   126045000  377835  4938.0      YEN\n"
     ]
    }
   ],
   "source": [
    "#Show only the rows/countries that have more than 2000 GDP \n",
    "gdp_greater_2000 = df[df['GDP'] > 2000]\n",
    "print(gdp_greater_2000)"
   ]
  },
  {
   "cell_type": "code",
   "execution_count": 28,
   "id": "2f08152f-dc88-40f6-8a22-f46af5985bde",
   "metadata": {},
   "outputs": [
    {
     "name": "stdout",
     "output_type": "stream",
     "text": [
      "      Name  Population    Area     GDP Currency\n",
      "0  Germany    82521653  357385  3466.0      EUR\n",
      "1    Japan   126045000  377835  4938.0      YEN\n",
      "3    Italy    60501718  301338  1850.0      EUR\n"
     ]
    }
   ],
   "source": [
    "#Select all countries where with inhabitants between 50 and 150 Mio\n",
    "selected_countries = df[(df['Population'] >= 50000000) & (df['Population'] <= 150000000)]\n",
    "print(selected_countries)"
   ]
  },
  {
   "cell_type": "code",
   "execution_count": 30,
   "id": "9ac4fa88-e572-4f5f-b467-7ad3f25c3d5f",
   "metadata": {},
   "outputs": [
    {
     "name": "stdout",
     "output_type": "stream",
     "text": [
      "GDP Average (Ignoring Missing Values): 2387.5\n"
     ]
    }
   ],
   "source": [
    "# Calculate GDP average (ignoring missing values)\n",
    "gdp_average_without_nan = df['GDP'].mean()\n",
    "print(\"GDP Average (Ignoring Missing Values):\", gdp_average_without_nan)\n"
   ]
  },
  {
   "cell_type": "code",
   "execution_count": 32,
   "id": "9169b0d4-a0dc-4333-ac1b-8ae05564cabf",
   "metadata": {},
   "outputs": [
    {
     "name": "stdout",
     "output_type": "stream",
     "text": [
      "GDP Average (Missing Values Treated as 0): 2046.4285714285713\n"
     ]
    }
   ],
   "source": [
    "# Calculate GDP average (missing values treated as 0)\n",
    "gdp_average_zero = df['GDP'].fillna(0).mean()\n",
    "print(\"GDP Average (Missing Values Treated as 0):\", gdp_average_zero)\n"
   ]
  },
  {
   "cell_type": "code",
   "execution_count": 33,
   "id": "75cdbd8a-e3d2-493d-b40c-5c4c9d7862b2",
   "metadata": {},
   "outputs": [
    {
     "name": "stdout",
     "output_type": "stream",
     "text": [
      "        Name  Population     Area     GDP Currency  Population Density\n",
      "0    Germany    82521653   357385  3466.0      EUR          230.904075\n",
      "1      Japan   126045000   377835  4938.0      YEN          333.597999\n",
      "2     Canada    36503097  9984670  1529.0      CAD            3.655914\n",
      "3      Italy    60501718   301338  1850.0      EUR          200.776928\n",
      "4   Brazilia   208360000  8515770  1798.0     REAL           24.467547\n",
      "5     Taiwan    23938272    36197   744.0      NTD          661.333039\n",
      "6  Venezuela    28208977   912050     NaN      VED           30.929200\n"
     ]
    }
   ],
   "source": [
    "# Calculate population density (population/area) and add as a new column\n",
    "df['Population Density'] = df['Population'] / df['Area']\n",
    "print(df)\n"
   ]
  },
  {
   "cell_type": "code",
   "execution_count": 34,
   "id": "243559a7-df62-4375-8d13-0774a0c8f42f",
   "metadata": {},
   "outputs": [
    {
     "name": "stdout",
     "output_type": "stream",
     "text": [
      "        Name  Population     Area     GDP Currency  Population Density\n",
      "4   Brazilia   208360000  8515770  1798.0     REAL           24.467547\n",
      "2     Canada    36503097  9984670  1529.0      CAD            3.655914\n",
      "0    Germany    82521653   357385  3466.0      EUR          230.904075\n",
      "3      Italy    60501718   301338  1850.0      EUR          200.776928\n",
      "1      Japan   126045000   377835  4938.0      YEN          333.597999\n",
      "5     Taiwan    23938272    36197   744.0      NTD          661.333039\n",
      "6  Venezuela    28208977   912050     NaN      VED           30.929200\n"
     ]
    }
   ],
   "source": [
    "# Sort DataFrame by country name alphabetically\n",
    "df_sorted = df.sort_values(by='Name')\n",
    "print(df_sorted)\n"
   ]
  },
  {
   "cell_type": "code",
   "execution_count": 36,
   "id": "38974f61-2e21-4ab9-abf2-1710f55be4eb",
   "metadata": {},
   "outputs": [
    {
     "name": "stdout",
     "output_type": "stream",
     "text": [
      "        Name  Population   Area     GDP Currency  Population Density\n",
      "0    Germany    82521653  SMALL  3466.0      EUR          230.904075\n",
      "1      Japan   126045000  SMALL  4938.0      YEN          333.597999\n",
      "2     Canada    36503097    BIG  1529.0      CAD            3.655914\n",
      "3      Italy    60501718  SMALL  1850.0      EUR          200.776928\n",
      "4   Brazilia   208360000    BIG  1798.0     REAL           24.467547\n",
      "5     Taiwan    23938272  SMALL   744.0      NTD          661.333039\n",
      "6  Venezuela    28208977  SMALL     NaN      VED           30.929200\n"
     ]
    }
   ],
   "source": [
    "#Create a new data frame from the original where the area is changed: all countries with > 1000000 get BIG and <= 1000000 get SMALL\n",
    "# in the cell replaced\n",
    "df_new = df.copy()\n",
    "df_new['Area'] = df_new['Area'].apply(lambda x: 'BIG' if x > 1000000 else 'SMALL')\n",
    "print(df_new)\n"
   ]
  },
  {
   "cell_type": "code",
   "execution_count": null,
   "id": "22cfe3dd-be86-46b2-ae58-41b0cc6018df",
   "metadata": {},
   "outputs": [],
   "source": []
  }
 ],
 "metadata": {
  "kernelspec": {
   "display_name": "Python 3 (ipykernel)",
   "language": "python",
   "name": "python3"
  },
  "language_info": {
   "codemirror_mode": {
    "name": "ipython",
    "version": 3
   },
   "file_extension": ".py",
   "mimetype": "text/x-python",
   "name": "python",
   "nbconvert_exporter": "python",
   "pygments_lexer": "ipython3",
   "version": "3.11.7"
  }
 },
 "nbformat": 4,
 "nbformat_minor": 5
}
