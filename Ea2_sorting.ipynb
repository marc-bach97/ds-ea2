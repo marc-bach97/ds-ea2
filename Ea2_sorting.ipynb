{
 "cells": [
  {
   "cell_type": "code",
   "execution_count": 6,
   "id": "3505d04a-68b1-4c0e-bb7f-09087f692a8e",
   "metadata": {},
   "outputs": [],
   "source": [
    "import numpy as np\n",
    "import timeit\n"
   ]
  },
  {
   "cell_type": "code",
   "execution_count": 18,
   "id": "f7225940-9de1-4e43-bf4c-8de94132a0ad",
   "metadata": {},
   "outputs": [],
   "source": [
    "def sort_without_numpy(lst):\n",
    "    # Check if input list is empty or None\n",
    "    if lst is None or not lst:\n",
    "        print(\"Input list is empty\")\n",
    "\n",
    "    # Check for non-numerical values in the list\n",
    "    for x in lst:\n",
    "        if not isinstance(x, (int, float)):\n",
    "            print(\"Input list contains non-numerical values\")\n",
    "\n",
    "    # Create a list of indices corresponding to the list elements   \n",
    "    indices = list(range(len(lst)))\n",
    "    \n",
    "    # Sort the indices based on the values in the original list\n",
    "    sorted_indices = sorted(indices, key=lambda i: lst[i])\n",
    "    \n",
    "    return sorted_indices\n"
   ]
  },
  {
   "cell_type": "code",
   "execution_count": 19,
   "id": "4baa4e12-0fb9-4fff-af26-e2d5ce23c708",
   "metadata": {},
   "outputs": [],
   "source": [
    "def sort_with_numpy(lst):\n",
    "    \n",
    "    # Check if input list is empty or None\n",
    "    if lst is None:\n",
    "        print(\"Input list is empty\")\n",
    "\n",
    "    #convert the list to a numpy array\n",
    "    array = np.array(lst)\n",
    "    \n",
    "    # check if input array is empty or not numerical\n",
    "    if array.size == 0:\n",
    "        print(\"Input list is empty\")\n",
    "    # check if all elements in the array are of type number (integer,float)\n",
    "    if not np.issubdtype(array.dtype, np.number):\n",
    "        print(\"Input list contains non-numerical values\")\n",
    "\n",
    "    # Get the indices that would sort the array\n",
    "    sorted_indices = np.argsort(array)\n",
    "    \n",
    "    return sorted_indices.tolist()\n"
   ]
  },
  {
   "cell_type": "code",
   "execution_count": 23,
   "id": "0df4145a-c9ed-4b66-84c0-db5ed0ebe76b",
   "metadata": {
    "scrolled": true
   },
   "outputs": [
    {
     "name": "stdout",
     "output_type": "stream",
     "text": [
      "Without Numpy\n",
      "Testing empty list\n",
      "Input list is empty\n",
      "No Numpy : execution time for List 1 : 2.4499837309122086e-05\n",
      "No Numpy : execution time for List 3 : 3.3129735998809338\n",
      "With Numpy\n",
      "Testing empty list\n",
      "Input list is empty\n",
      "Using Numpy : execution time for List 1 : 6.659980863332748e-05\n",
      "Using Numpy : execution time for List 3 : 1.097022800007835\n"
     ]
    }
   ],
   "source": [
    "list1 = [23, 104, 5, 190, 8, 7, -3]\n",
    "list2 = []\n",
    "list3 = [np.random.randint(100000) for i in range(1000000)] \n",
    "\n",
    "# Test without numpy \n",
    "print(\"Without Numpy\")\n",
    "print(\"Testing empty list\")\n",
    "time_no_numpy_list_2 = sort_without_numpy(list2)\n",
    "time_no_numpy_list_1 = timeit.timeit(lambda: sort_without_numpy(list1), number=5)\n",
    "time_no_numpy_list_3 = timeit.timeit(lambda: sort_without_numpy(list3), number=5)\n",
    "print(\"No Numpy : execution time for List 1 :\",time_no_numpy_list_1)\n",
    "print(\"No Numpy : execution time for List 3 :\",time_no_numpy_list_3)\n",
    "\n",
    "\n",
    "# Test with numpy \n",
    "print(\"With Numpy\")\n",
    "print(\"Testing empty list\")\n",
    "time_with_numpy_list_2 = sort_with_numpy(list2)\n",
    "time_with_numpy_list_1 = timeit.timeit(lambda: sort_with_numpy(list1), number=5)\n",
    "time_with_numpy_list_3 = timeit.timeit(lambda: sort_with_numpy(list3), number=5)\n",
    "print(\"Using Numpy : execution time for List 1 :\",time_with_numpy_list_1)\n",
    "print(\"Using Numpy : execution time for List 3 :\",time_with_numpy_list_3)\n"
   ]
  },
  {
   "cell_type": "code",
   "execution_count": null,
   "id": "ca87d620-ecb0-439e-96d6-3c671bbd9ebc",
   "metadata": {},
   "outputs": [],
   "source": []
  }
 ],
 "metadata": {
  "kernelspec": {
   "display_name": "Python 3 (ipykernel)",
   "language": "python",
   "name": "python3"
  },
  "language_info": {
   "codemirror_mode": {
    "name": "ipython",
    "version": 3
   },
   "file_extension": ".py",
   "mimetype": "text/x-python",
   "name": "python",
   "nbconvert_exporter": "python",
   "pygments_lexer": "ipython3",
   "version": "3.11.7"
  }
 },
 "nbformat": 4,
 "nbformat_minor": 5
}
